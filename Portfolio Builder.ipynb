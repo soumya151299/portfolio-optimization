{
 "cells": [
  {
   "cell_type": "markdown",
   "metadata": {},
   "source": [
    "# Importing Libraries\n",
    "## Make sure you have the requisite requirements"
   ]
  },
  {
   "cell_type": "code",
   "execution_count": 1,
   "metadata": {},
   "outputs": [],
   "source": [
    "import pandas as pd\n",
    "import numpy as np\n",
    "import quandl\n",
    "import matplotlib.pyplot as plt\n",
    "import yfinance as yf\n",
    "import datetime"
   ]
  },
  {
   "cell_type": "code",
   "execution_count": 2,
   "metadata": {},
   "outputs": [],
   "source": [
    "def correct_quandl_name(names):\n",
    "    if isinstance(names, str):\n",
    "        names = [names]\n",
    "    return names"
   ]
  },
  {
   "cell_type": "code",
   "execution_count": 3,
   "metadata": {},
   "outputs": [],
   "source": [
    "def request_quandl(names, start_date=None, end_date=None):\n",
    "    c_names = correct_quandl_name(names)\n",
    "    response = quandl.get(c_names, start_date = start_date, end_date = end_date)\n",
    "    return response"
   ]
  },
  {
   "cell_type": "code",
   "execution_count": 4,
   "metadata": {},
   "outputs": [],
   "source": [
    "def request_yfinance(names, start_date=None, end_date=None):\n",
    "    if isinstance(start_date, str):\n",
    "        start_date = datetime.datetime.strptime(start_date, \"%Y-%m-%d\")\n",
    "    if isinstance(end_date, str):\n",
    "        start_date = datetime.datetime.strptime(end_date, \"%Y-%m-%d\")\n",
    "    response = yf.download(names, start=start_date, end=end_date)\n",
    "    if not isinstance(response.columns, pd.MultiIndex) and len(names) > 0:\n",
    "        stock_tuples = [(col, names[0]) for col in list(response.columns)]\n",
    "        response.columns = pd.MultiIndex.from_tuples(stock_tuples)\n",
    "    return response"
   ]
  },
  {
   "cell_type": "code",
   "execution_count": 13,
   "metadata": {},
   "outputs": [],
   "source": [
    "def generate_pf_allocations(names=None):\n",
    "    weights = [1.0 / len(names) for i in range(len(names))]\n",
    "    return pd.DataFrame({\"Allocation\": weights, \"Name\": names})"
   ]
  },
  {
   "cell_type": "code",
   "execution_count": 29,
   "metadata": {},
   "outputs": [],
   "source": [
    "def create_portfolio(names, pf_allocation=None, start_date = None, end_date = None, datacolumns=[\"Adj Close\"]):\n",
    "    data = request_yfinance(names, start_date, end_date)\n",
    "    if pf_allocation == None:\n",
    "        pf_allocation = generate_pf_allocations(names = names)\n",
    "    data = data[datacolumns]\n",
    "    for i in range(len(pf_allocation)):\n",
    "        name = pf_allocation.loc[i].Name\n",
    "        stock_data = data.loc[:, [[name]].copy(deep=True)]\n",
    "        stock_data.name = datacolumns[0]\n",
    "        pf.add_stock() #Need to add stock\n",
    "    return data"
   ]
  },
  {
   "cell_type": "code",
   "execution_count": 30,
   "metadata": {},
   "outputs": [
    {
     "name": "stdout",
     "output_type": "stream",
     "text": [
      "[*********************100%***********************]  2 of 2 completed\n"
     ]
    }
   ],
   "source": [
    "data = create_portfolio(names=['SPY', 'AAPL'])"
   ]
  },
  {
   "cell_type": "code",
   "execution_count": 31,
   "metadata": {},
   "outputs": [
    {
     "name": "stdout",
     "output_type": "stream",
     "text": [
      "             Adj Close            \n",
      "                  AAPL         SPY\n",
      "Date                              \n",
      "1980-12-12    0.404953         NaN\n",
      "1980-12-15    0.383825         NaN\n",
      "1980-12-16    0.355655         NaN\n",
      "1980-12-17    0.364458         NaN\n",
      "1980-12-18    0.375022         NaN\n",
      "1980-12-19    0.397911         NaN\n",
      "1980-12-22    0.417278         NaN\n",
      "1980-12-23    0.434885         NaN\n",
      "1980-12-24    0.457773         NaN\n",
      "1980-12-26    0.500029         NaN\n",
      "1980-12-29    0.507072         NaN\n",
      "1980-12-30    0.494747         NaN\n",
      "1980-12-31    0.480662         NaN\n",
      "1981-01-02    0.485944         NaN\n",
      "1981-01-05    0.475380         NaN\n",
      "1981-01-06    0.454252         NaN\n",
      "1981-01-07    0.434885         NaN\n",
      "1981-01-08    0.426081         NaN\n",
      "1981-01-09    0.448970         NaN\n",
      "1981-01-12    0.445449         NaN\n",
      "1981-01-13    0.429603         NaN\n",
      "1981-01-14    0.431363         NaN\n",
      "1981-01-15    0.440166         NaN\n",
      "1981-01-16    0.436645         NaN\n",
      "1981-01-19    0.463055         NaN\n",
      "1981-01-20    0.448970         NaN\n",
      "1981-01-21    0.457773         NaN\n",
      "1981-01-22    0.463055         NaN\n",
      "1981-01-23    0.461294         NaN\n",
      "1981-01-26    0.454252         NaN\n",
      "...                ...         ...\n",
      "2020-07-15  390.196472  321.850006\n",
      "2020-07-16  385.395111  320.790009\n",
      "2020-07-17  384.616516  321.720001\n",
      "2020-07-20  392.721924  324.320007\n",
      "2020-07-21  387.301697  325.010010\n",
      "2020-07-22  388.389740  326.859985\n",
      "2020-07-23  370.711609  322.959991\n",
      "2020-07-24  369.793243  320.880005\n",
      "2020-07-27  378.557434  323.220001\n",
      "2020-07-28  372.338684  321.170013\n",
      "2020-07-29  379.475800  325.119995\n",
      "2020-07-30  384.067535  323.959991\n",
      "2020-07-31  424.275024  326.519989\n",
      "2020-08-03  434.965759  328.790009\n",
      "2020-08-04  437.870514  330.059998\n",
      "2020-08-05  439.457642  332.109985\n",
      "2020-08-06  454.790009  334.329987\n",
      "2020-08-07  444.450012  334.570007\n",
      "2020-08-10  450.910004  335.570007\n",
      "2020-08-11  437.500000  332.799988\n",
      "2020-08-12  452.040009  337.440002\n",
      "2020-08-13  460.040009  336.829987\n",
      "2020-08-14  459.630005  336.839996\n",
      "2020-08-17  458.429993  337.910004\n",
      "2020-08-18  462.250000  338.640015\n",
      "2020-08-19  462.829987  337.230011\n",
      "2020-08-20  473.100006  338.279999\n",
      "2020-08-21  497.480011  339.480011\n",
      "2020-08-24  503.429993  342.920013\n",
      "2020-08-25  499.299988  344.119995\n",
      "\n",
      "[10010 rows x 2 columns]\n"
     ]
    }
   ],
   "source": [
    "print(data)"
   ]
  },
  {
   "cell_type": "code",
   "execution_count": null,
   "metadata": {},
   "outputs": [],
   "source": []
  }
 ],
 "metadata": {
  "kernelspec": {
   "display_name": "Python 3",
   "language": "python",
   "name": "python3"
  },
  "language_info": {
   "codemirror_mode": {
    "name": "ipython",
    "version": 3
   },
   "file_extension": ".py",
   "mimetype": "text/x-python",
   "name": "python",
   "nbconvert_exporter": "python",
   "pygments_lexer": "ipython3",
   "version": "3.5.2"
  }
 },
 "nbformat": 4,
 "nbformat_minor": 2
}
