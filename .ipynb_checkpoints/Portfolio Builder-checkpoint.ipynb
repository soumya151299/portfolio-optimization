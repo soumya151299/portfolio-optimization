{
 "cells": [
  {
   "cell_type": "markdown",
   "metadata": {},
   "source": [
    "# Importing Libraries\n",
    "## Make sure you have the requisite requirements"
   ]
  },
  {
   "cell_type": "code",
   "execution_count": 37,
   "metadata": {},
   "outputs": [],
   "source": [
    "import pandas as pd\n",
    "import numpy as np\n",
    "import quandl\n",
    "import matplotlib.pyplot as plt\n",
    "import yfinance as yf\n",
    "import datetime"
   ]
  },
  {
   "cell_type": "code",
   "execution_count": 38,
   "metadata": {},
   "outputs": [],
   "source": [
    "def correct_quandl_name(names):\n",
    "    if isinstance(names, str):\n",
    "        names = [names]\n",
    "    return names"
   ]
  },
  {
   "cell_type": "code",
   "execution_count": 39,
   "metadata": {},
   "outputs": [],
   "source": [
    "def request_quandl(names, start_date=None, end_date=None, token=None):\n",
    "    c_names = correct_quandl_name(names)\n",
    "    response = quandl.get(c_names, start_date = start_date, end_date = end_date, authtoken=token)\n",
    "    return response"
   ]
  },
  {
   "cell_type": "code",
   "execution_count": 40,
   "metadata": {},
   "outputs": [],
   "source": [
    "def request_yfinance(names, start_date=None, end_date=None):\n",
    "    if isinstance(start_date, str):\n",
    "        start_date = datetime.datetime.strptime(start_date, \"%Y-%m-%d\")\n",
    "    if isinstance(end_date, str):\n",
    "        start_date = datetime.datetime.strptime(end_date, \"%Y-%m-%d\")\n",
    "    response = yf.download(names, start=start_date, end=end_date)\n",
    "    if not isinstance(response.columns, pd.MultiIndex) and len(names) > 0:\n",
    "        stock_tuples = [(col, names[0]) for col in list(response.columns)]\n",
    "        response.columns = pd.MultiIndex.from_tuples(stock_tuples)\n",
    "    return response"
   ]
  },
  {
   "cell_type": "code",
   "execution_count": 41,
   "metadata": {},
   "outputs": [],
   "source": [
    "def get_stock_data(names, start_date = None, end_date = None):\n",
    "    overall_Data = {}\n",
    "    for name in names:\n",
    "        data = request_yfinance(name, start_date=start_date, end_date=end_date)\n",
    "        overall_Data[name] = data['Adj Close']\n",
    "    overall_Data = pd.concat(overall_Data, axis=1)\n",
    "    return overall_Data"
   ]
  },
  {
   "cell_type": "code",
   "execution_count": 42,
   "metadata": {},
   "outputs": [],
   "source": [
    "def log_hist_returns(df):\n",
    "    hist_returns = np.log(df/df.shift())\n",
    "    hist_returns = hist_returns.dropna()\n",
    "    return hist_returns"
   ]
  },
  {
   "cell_type": "code",
   "execution_count": 43,
   "metadata": {},
   "outputs": [],
   "source": [
    "def hist_mean(df):\n",
    "    hist_mean = df.mean(axis=0).to_frame()\n",
    "    hist_mean.columns = ['MU']\n",
    "    return hist_mean.transpose()"
   ]
  },
  {
   "cell_type": "code",
   "execution_count": 44,
   "metadata": {},
   "outputs": [],
   "source": [
    "def hist_cov_and_corr(df):\n",
    "    hist_cov = df.cov()\n",
    "    hist_corr = df.corr()\n",
    "    return (hist_cov, hist_corr)"
   ]
  },
  {
   "cell_type": "code",
   "execution_count": 47,
   "metadata": {},
   "outputs": [],
   "source": [
    "def gmv(names, cov, mean_data):    \n",
    "    hist_cov_inv = -np.linalg.inv(cov)\n",
    "    ones = np.ones(len(names))\n",
    "    weights_gmv = np.dot(hist_cov_inv, ones)/(np.dot(ones.transpose(), np.dot(hist_cov_inv, ones)))\n",
    "    weights_gmv_df = pd.DataFrame(data = weights_gmv).transpose()\n",
    "    weights_gmv_df.columns = names\n",
    "    stddev_gmv = np.sqrt(np.dot(weights_gmv.T, np.dot(cov, weights_gmv))) * np.sqrt(250)\n",
    "    return_gmv = np.dot(weights_gmv.transpose(), mean_data.transpose())*252\n",
    "    \n",
    "    return (weights_gmv_df, stddev_gmv, return_gmv)"
   ]
  },
  {
   "cell_type": "code",
   "execution_count": 68,
   "metadata": {},
   "outputs": [],
   "source": [
    "def max_return(names, mean_data, cov):\n",
    "    cov_inv = -np.linalg.inv(cov)\n",
    "    ones = np.ones(len(names))\n",
    "    mu_o = np.asscalar(np.max(mean_data.T))\n",
    "    \n",
    "    A = np.matrix([[np.asscalar(np.dot(mean_data,np.dot(cov_inv,mean_data.T))),\n",
    "                np.asscalar(np.dot(mean_data,np.dot(cov_inv,ones)))],\n",
    "               [np.asscalar(np.dot(mean_data,np.dot(cov_inv,ones))),\n",
    "                np.asscalar(np.dot(ones.T,np.dot(cov_inv,ones)))]])\n",
    "    B = np.hstack([np.array(mean_data.T), ones.reshape(len(names), 1)])\n",
    "    y = np.matrix([mu_o, 1]).T\n",
    "    \n",
    "    weights_max_returns = np.dot(np.dot(np.dot(cov_inv, B), np.linalg.inv(A)), y)\n",
    "    weights_max_returns_df = pd.DataFrame(weights_max_returns).T\n",
    "    weights_max_returns_df.columns = names\n",
    "    \n",
    "    stddev_max_returns = np.sqrt(np.dot(weights_max_returns.T, np.dot(cov, weights_max_returns))) * np.sqrt(250)\n",
    "    return_max_returns = np.dot(weights_max_returns.transpose(), mean_data.transpose())*252\n",
    "    \n",
    "    return (weights_max_returns_df, stddev_max_returns, return_max_returns)"
   ]
  },
  {
   "cell_type": "code",
   "execution_count": 61,
   "metadata": {},
   "outputs": [],
   "source": [
    "def construct_portfolios(names, start_date = None, end_date = None):\n",
    "    \n",
    "    print(\"----------------------------------\\n\")\n",
    "    print(\"LIST OF STOCKS - \\n\")\n",
    "    for name in names:\n",
    "        print(name+\"\\n\")\n",
    "    print(\"----------------------------------\\n\")\n",
    "    \n",
    "    \n",
    "    data = get_stock_data(names=names, start_date = '2019-01-01')\n",
    "    \n",
    "    hist_return = log_hist_returns(data)\n",
    "    hist_mean_data = hist_mean(hist_return)\n",
    "    \n",
    "    print(\"Log Mean Returns - \\n\")\n",
    "    print(hist_mean_data)\n",
    "    print('\\n\\n')\n",
    "    \n",
    "    (hist_cov, hist_corr) = hist_cov_and_corr(hist_return)\n",
    "    \n",
    "    print(\"Historical Covariance - \\n\")\n",
    "    print(hist_cov)\n",
    "    print('\\n\\n')\n",
    "    \n",
    "    print(\"Historical Correlation - \\n\")\n",
    "    print(hist_corr)\n",
    "    \n",
    "    #Construct random portfolios\n",
    "    \n",
    "    n_portfolios = 5000\n",
    "    p_returns = np.zeros(n_portfolios)\n",
    "    p_stddevs = np.zeros(n_portfolios)\n",
    "    \n",
    "    for i in range(n_portfolios):\n",
    "        weights = np.random.rand(len(names))\n",
    "        weights = weights/sum(weights)\n",
    "        portfolio_return = np.dot(weights.transpose(), hist_mean_data.transpose())*252\n",
    "        portfolio_stddev = np.sqrt(np.dot(weights.T, np.dot(hist_cov, weights))) * np.sqrt(250)\n",
    "        p_returns[i] = portfolio_return\n",
    "        p_stddevs[i] = portfolio_stddev\n",
    "\n",
    "    #GMV\n",
    "    (weights_gmv_df, stddev_gmv, return_gmv) = gmv(names, hist_cov, hist_mean_data)\n",
    "    (weights_max_returns_df, stddev_max_returns, return_max_returns) =  max_return(names, hist_mean_data, hist_cov)\n",
    "    \n",
    "    print(\"\\n----------------------------------\\n\")\n",
    "    print(\"Weights for global minimum variance\")\n",
    "    print(weights_gmv_df)\n",
    "    print(\"\\n\\nVariance at GMV\")\n",
    "    print(stddev_gmv)\n",
    "    print(\"\\n\\nReturn at GMV\")\n",
    "    print(return_gmv)\n",
    "    \n",
    "    print(\"\\n----------------------------------\\n\")\n",
    "    print(\"Weights for Minimum Risk at Maximum Returns\")\n",
    "    print(weights_max_returns_df)\n",
    "    print(\"\\n\\nVariance at Max Returns\")\n",
    "    print(stddev_max_returns)\n",
    "    print(\"\\n\\nReturn at Max Returns\")\n",
    "    print(return_max_returns)\n",
    "    \n",
    "    \n",
    "    plt.figure(figsize=(10,10))\n",
    "    plt.plot(p_stddevs, p_returns, 'o')\n",
    "    plt.plot(stddev_gmv, return_gmv, 'x', markersize=20)\n",
    "    plt.plot(stddev_max_returns, return_max_returns, 'o', markersize=20)\n",
    "    plt.xlabel('Expected Risk')\n",
    "    plt.ylabel('Expected Return')\n",
    "    plt.title('Return and Volatility of Randomly Generated Portfolios')\n",
    "    plt.show()"
   ]
  },
  {
   "cell_type": "code",
   "execution_count": 69,
   "metadata": {},
   "outputs": [
    {
     "name": "stdout",
     "output_type": "stream",
     "text": [
      "----------------------------------\n",
      "\n",
      "LIST OF STOCKS - \n",
      "\n",
      "ITC.NS\n",
      "\n",
      "BPCL.NS\n",
      "\n",
      "RELIANCE.NS\n",
      "\n",
      "BEL.NS\n",
      "\n",
      "TCS.NS\n",
      "\n",
      "----------------------------------\n",
      "\n",
      "[*********************100%***********************]  1 of 1 completed\n",
      "[*********************100%***********************]  1 of 1 completed\n",
      "[*********************100%***********************]  1 of 1 completed\n",
      "[*********************100%***********************]  1 of 1 completed\n",
      "[*********************100%***********************]  1 of 1 completed\n",
      "Log Mean Returns - \n",
      "\n",
      "      BEL.NS   BPCL.NS    ITC.NS RELIANCE.NS    TCS.NS\n",
      "           B         B         I           R         T\n",
      "MU  0.000738  0.000606 -0.000749     0.00162  0.000535\n",
      "\n",
      "\n",
      "\n",
      "Historical Covariance - \n",
      "\n",
      "                 BEL.NS   BPCL.NS    ITC.NS RELIANCE.NS    TCS.NS\n",
      "                      B         B         I           R         T\n",
      "BEL.NS      B  0.000912  0.000370  0.000235    0.000292  0.000150\n",
      "BPCL.NS     B  0.000370  0.000863  0.000216    0.000298  0.000155\n",
      "ITC.NS      I  0.000235  0.000216  0.000446    0.000160  0.000116\n",
      "RELIANCE.NS R  0.000292  0.000298  0.000160    0.000626  0.000207\n",
      "TCS.NS      T  0.000150  0.000155  0.000116    0.000207  0.000363\n",
      "\n",
      "\n",
      "\n",
      "Historical Correlation - \n",
      "\n",
      "                 BEL.NS   BPCL.NS    ITC.NS RELIANCE.NS    TCS.NS\n",
      "                      B         B         I           R         T\n",
      "BEL.NS      B  1.000000  0.417085  0.367682    0.386427  0.260406\n",
      "BPCL.NS     B  0.417085  1.000000  0.347840    0.404950  0.277024\n",
      "ITC.NS      I  0.367682  0.347840  1.000000    0.302588  0.289247\n",
      "RELIANCE.NS R  0.386427  0.404950  0.302588    1.000000  0.433264\n",
      "TCS.NS      T  0.260406  0.277024  0.289247    0.433264  1.000000\n"
     ]
    },
    {
     "name": "stderr",
     "output_type": "stream",
     "text": [
      "/usr/local/lib/python3.5/dist-packages/ipykernel_launcher.py:4: DeprecationWarning: np.asscalar(a) is deprecated since NumPy v1.16, use a.item() instead\n",
      "  after removing the cwd from sys.path.\n",
      "/usr/local/lib/python3.5/dist-packages/ipykernel_launcher.py:6: DeprecationWarning: np.asscalar(a) is deprecated since NumPy v1.16, use a.item() instead\n",
      "  \n",
      "/usr/local/lib/python3.5/dist-packages/ipykernel_launcher.py:7: DeprecationWarning: np.asscalar(a) is deprecated since NumPy v1.16, use a.item() instead\n",
      "  import sys\n",
      "/usr/local/lib/python3.5/dist-packages/ipykernel_launcher.py:8: DeprecationWarning: np.asscalar(a) is deprecated since NumPy v1.16, use a.item() instead\n",
      "  \n",
      "/usr/local/lib/python3.5/dist-packages/ipykernel_launcher.py:9: DeprecationWarning: np.asscalar(a) is deprecated since NumPy v1.16, use a.item() instead\n",
      "  if __name__ == '__main__':\n"
     ]
    },
    {
     "name": "stdout",
     "output_type": "stream",
     "text": [
      "\n",
      "----------------------------------\n",
      "\n",
      "Weights for global minimum variance\n",
      "     ITC.NS   BPCL.NS  RELIANCE.NS    BEL.NS    TCS.NS\n",
      "0  0.048428  0.060016     0.333969  0.099571  0.458017\n",
      "\n",
      "\n",
      "Variance at GMV\n",
      "0.24622481010592442\n",
      "\n",
      "\n",
      "Return at GMV\n",
      "[0.05756336]\n",
      "\n",
      "----------------------------------\n",
      "\n",
      "Weights for Minimum Risk at Maximum Returns\n",
      "     ITC.NS   BPCL.NS  RELIANCE.NS    BEL.NS    TCS.NS\n",
      "0  0.140075  0.082083    -0.308135  0.603812  0.482165\n",
      "\n",
      "\n",
      "Variance at Max Returns\n",
      "[[0.35144487]]\n",
      "\n",
      "\n",
      "Return at Max Returns\n",
      "[[0.40827784]]\n"
     ]
    },
    {
     "data": {
      "image/png": "[encoded data removed]",
      "text/plain": [
       "<Figure size 720x720 with 1 Axes>"
      ]
     },
     "metadata": {},
     "output_type": "display_data"
    }
   ],
   "source": [
    "construct_portfolios([\"ITC.NS\",\"BPCL.NS\",\"RELIANCE.NS\",\"BEL.NS\",\"TCS.NS\"], start_date = '2019-01-01')"
   ]
  },
  {
   "cell_type": "code",
   "execution_count": null,
   "metadata": {},
   "outputs": [],
   "source": []
  }
 ],
 "metadata": {
  "kernelspec": {
   "display_name": "Python 3",
   "language": "python",
   "name": "python3"
  },
  "language_info": {
   "codemirror_mode": {
    "name": "ipython",
    "version": 3
   },
   "file_extension": ".py",
   "mimetype": "text/x-python",
   "name": "python",
   "nbconvert_exporter": "python",
   "pygments_lexer": "ipython3",
   "version": "3.5.2"
  }
 },
 "nbformat": 4,
 "nbformat_minor": 2
}
